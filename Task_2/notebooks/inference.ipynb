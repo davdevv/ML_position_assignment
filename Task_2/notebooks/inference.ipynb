{
  "nbformat": 4,
  "nbformat_minor": 0,
  "metadata": {
    "colab": {
      "provenance": [],
      "authorship_tag": "ABX9TyMYwxkHgwSRQQ8Q/diZuqU1",
      "include_colab_link": true
    },
    "kernelspec": {
      "name": "python3",
      "display_name": "Python 3"
    },
    "language_info": {
      "name": "python"
    },
    "accelerator": "GPU",
    "gpuClass": "standard"
  },
  "cells": [
    {
      "cell_type": "markdown",
      "metadata": {
        "id": "view-in-github",
        "colab_type": "text"
      },
      "source": [
        "<a href=\"https://colab.research.google.com/github/davdevv/ML_position_assignment/blob/main/Task_2/notebooks/inference.ipynb\" target=\"_parent\"><img src=\"https://colab.research.google.com/assets/colab-badge.svg\" alt=\"Open In Colab\"/></a>"
      ]
    },
    {
      "cell_type": "code",
      "source": [
        "import torch\n",
        "import torch.nn as nn\n",
        "import numpy as np\n",
        "from tqdm import tqdm"
      ],
      "metadata": {
        "id": "1rDPW1o3RLf1"
      },
      "execution_count": 1,
      "outputs": []
    },
    {
      "cell_type": "markdown",
      "source": [
        "#Клонируем репозиторий\n"
      ],
      "metadata": {
        "id": "zlHAd3HXRNFu"
      }
    },
    {
      "cell_type": "code",
      "execution_count": 2,
      "metadata": {
        "colab": {
          "base_uri": "https://localhost:8080/"
        },
        "id": "2-_GBlWbN8q6",
        "outputId": "85aeedd4-2d02-4275-a2db-5898a6986d84"
      },
      "outputs": [
        {
          "output_type": "stream",
          "name": "stdout",
          "text": [
            "Cloning into 'ML_position_assignment'...\n",
            "remote: Enumerating objects: 165, done.\u001b[K\n",
            "remote: Counting objects: 100% (44/44), done.\u001b[K\n",
            "remote: Compressing objects: 100% (42/42), done.\u001b[K\n",
            "remote: Total 165 (delta 17), reused 1 (delta 0), pack-reused 121\u001b[K\n",
            "Receiving objects: 100% (165/165), 939.28 KiB | 5.80 MiB/s, done.\n",
            "Resolving deltas: 100% (58/58), done.\n"
          ]
        }
      ],
      "source": [
        "!git clone https://github.com/davdevv/ML_position_assignment.git"
      ]
    },
    {
      "cell_type": "markdown",
      "source": [
        "#Скачиваем val датасет с диска"
      ],
      "metadata": {
        "id": "ktHfaF_gODk2"
      }
    },
    {
      "cell_type": "code",
      "source": [
        "!gdown '1WPopTKn4OL6YwTRiiR-7RDsRHRfyARMF'"
      ],
      "metadata": {
        "colab": {
          "base_uri": "https://localhost:8080/"
        },
        "id": "V0uOzD4TOD4e",
        "outputId": "4b1ad951-01d7-4fe5-8a92-b02a08d24849"
      },
      "execution_count": 3,
      "outputs": [
        {
          "output_type": "stream",
          "name": "stdout",
          "text": [
            "Downloading...\n",
            "From: https://drive.google.com/uc?id=1WPopTKn4OL6YwTRiiR-7RDsRHRfyARMF\n",
            "To: /content/val.rar\n",
            "100% 373M/373M [00:11<00:00, 31.8MB/s]\n"
          ]
        }
      ]
    },
    {
      "cell_type": "markdown",
      "source": [
        "#Скачиваем чекпоинт"
      ],
      "metadata": {
        "id": "0owmDHKqRnF_"
      }
    },
    {
      "cell_type": "code",
      "source": [
        "!gdown '1AHZ8soHuE7WalZJ1U1gWuYUFrFoXWV31'"
      ],
      "metadata": {
        "colab": {
          "base_uri": "https://localhost:8080/"
        },
        "id": "htk2hrPbRfNf",
        "outputId": "062b47a5-f111-4c3d-e40d-f3072ffd4d77"
      },
      "execution_count": 4,
      "outputs": [
        {
          "output_type": "stream",
          "name": "stdout",
          "text": [
            "Downloading...\n",
            "From: https://drive.google.com/uc?id=1AHZ8soHuE7WalZJ1U1gWuYUFrFoXWV31\n",
            "To: /content/audio_denoising_chpt.pth\n",
            "\r  0% 0.00/654k [00:00<?, ?B/s]\r100% 654k/654k [00:00<00:00, 132MB/s]\n"
          ]
        }
      ]
    },
    {
      "cell_type": "code",
      "source": [
        "!pip install unrar\n",
        "!unrar x val"
      ],
      "metadata": {
        "id": "pOUdtan5PguG"
      },
      "execution_count": null,
      "outputs": []
    },
    {
      "cell_type": "markdown",
      "source": [
        "#Валидационная функция"
      ],
      "metadata": {
        "id": "M5Nsj0ypOE6W"
      }
    },
    {
      "cell_type": "code",
      "source": [
        "!pip install pytorch_msssim"
      ],
      "metadata": {
        "colab": {
          "base_uri": "https://localhost:8080/"
        },
        "id": "uIXmsuJBTklY",
        "outputId": "bd2821c5-4639-41f7-94cc-59d9accb3535"
      },
      "execution_count": 6,
      "outputs": [
        {
          "output_type": "stream",
          "name": "stdout",
          "text": [
            "Looking in indexes: https://pypi.org/simple, https://us-python.pkg.dev/colab-wheels/public/simple/\n",
            "Collecting pytorch_msssim\n",
            "  Downloading pytorch_msssim-0.2.1-py3-none-any.whl (7.2 kB)\n",
            "Requirement already satisfied: torch in /usr/local/lib/python3.9/dist-packages (from pytorch_msssim) (1.13.1+cu116)\n",
            "Requirement already satisfied: typing-extensions in /usr/local/lib/python3.9/dist-packages (from torch->pytorch_msssim) (4.5.0)\n",
            "Installing collected packages: pytorch_msssim\n",
            "Successfully installed pytorch_msssim-0.2.1\n"
          ]
        }
      ]
    },
    {
      "cell_type": "code",
      "source": [
        "from ML_position_assignment.Task_2.model import ResidualDenseNetwork as Model\n",
        "from ML_position_assignment.Task_2.metrics import PSNR, SSIM\n",
        "from ML_position_assignment.Task_2.dataset import load, CustomDataset"
      ],
      "metadata": {
        "id": "wArO5Nk6Ob7m"
      },
      "execution_count": 7,
      "outputs": []
    },
    {
      "cell_type": "code",
      "source": [
        "def validate(\n",
        "        loader,\n",
        "        model,\n",
        "        device=torch.device(\"cuda\" if torch.cuda.is_available() else \"cpu\")\n",
        "):\n",
        "    model.eval()\n",
        "    psnr = PSNR(data_range=1, reduction='mean')\n",
        "    ssim = SSIM(1, data_range=1, reduction='mean')\n",
        "    with torch.no_grad():\n",
        "        val_psnr = []\n",
        "        val_ssim = []\n",
        "        val_mse = []\n",
        "        for clean_image, noisy_image in tqdm(loader):\n",
        "            noisy_image = noisy_image.to(device, dtype=torch.float)\n",
        "            clean_image = clean_image.to(device, dtype=torch.float)\n",
        "            prediction = model(noisy_image)\n",
        "            current_psnr = psnr(clean_image, prediction).item()\n",
        "            current_ssim = ssim(clean_image, prediction).item()\n",
        "            mse = nn.MSELoss()\n",
        "            current_mse = mse(clean_image, prediction)\n",
        "\n",
        "            val_psnr.append(current_psnr)\n",
        "            val_ssim.append(current_ssim)\n",
        "            val_mse.append(current_mse.cpu())\n",
        "\n",
        "    val_psnr = np.mean(val_psnr)\n",
        "    val_ssim = np.mean(val_ssim)\n",
        "    val_mse = np.mean(val_mse)\n",
        "    print(\"\\nVal MSE: {:.5f}\".format(val_mse))\n",
        "    print(\"\\nMean Test PSNR: {:.2f}\\nMean Test SSIM: {:.2f}\".format(val_psnr, val_ssim))\n",
        "    print('-' * 50)\n",
        "\n",
        "    return val_psnr, val_ssim"
      ],
      "metadata": {
        "id": "kuH_YJjYUpn4"
      },
      "execution_count": 11,
      "outputs": []
    },
    {
      "cell_type": "markdown",
      "source": [
        "#Тестируем модель на валидационной выборке"
      ],
      "metadata": {
        "id": "2tc_DGd4VXwP"
      }
    },
    {
      "cell_type": "code",
      "source": [
        "kernel_size = 3\n",
        "num_channels = 1\n",
        "growth_rate = 10\n",
        "num_features = 12\n",
        "num_blocks = 7\n",
        "num_layers = 6"
      ],
      "metadata": {
        "id": "0Q7eezHIQv6m"
      },
      "execution_count": 9,
      "outputs": []
    },
    {
      "cell_type": "code",
      "source": [
        "device = torch.device(\"cuda\" if torch.cuda.is_available() else \"cpu\")\n",
        "model = Model(kernel_size, num_channels, growth_rate,\n",
        "              num_features, num_blocks, num_layers).to(device)\n",
        "model.load_state_dict(torch.load('audio_denoising_chpt.pth',\n",
        "                                 map_location=device))\n",
        "val_loader = load('val/val', batch_size=1, validate=True)\n",
        "validate(val_loader, model, device)"
      ],
      "metadata": {
        "colab": {
          "base_uri": "https://localhost:8080/"
        },
        "id": "0JVZKZtyQqdP",
        "outputId": "5a91a4eb-05e2-4579-920d-632723e2a9e7"
      },
      "execution_count": 13,
      "outputs": [
        {
          "output_type": "stream",
          "name": "stderr",
          "text": [
            "100%|██████████| 2000/2000 [00:41<00:00, 48.10it/s]"
          ]
        },
        {
          "output_type": "stream",
          "name": "stdout",
          "text": [
            "\n",
            "Val MSE: 0.03617\n",
            "\n",
            "Mean Test PSNR: 15.53\n",
            "Mean Test SSIM: 0.60\n",
            "--------------------------------------------------\n"
          ]
        },
        {
          "output_type": "stream",
          "name": "stderr",
          "text": [
            "\n"
          ]
        },
        {
          "output_type": "execute_result",
          "data": {
            "text/plain": [
              "(15.525494769454003, 0.5998819938749075)"
            ]
          },
          "metadata": {},
          "execution_count": 13
        }
      ]
    }
  ]
}